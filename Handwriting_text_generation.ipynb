{
  "nbformat": 4,
  "nbformat_minor": 0,
  "metadata": {
    "colab": {
      "provenance": [],
      "authorship_tag": "ABX9TyPVz7woiUSZIzNtEkoYCaQW",
      "include_colab_link": true
    },
    "kernelspec": {
      "name": "python3",
      "display_name": "Python 3"
    },
    "language_info": {
      "name": "python"
    }
  },
  "cells": [
    {
      "cell_type": "markdown",
      "metadata": {
        "id": "view-in-github",
        "colab_type": "text"
      },
      "source": [
        "<a href=\"https://colab.research.google.com/github/VenkataPuneethKothapalli210/Handwriting-text-generation/blob/main/Handwriting_text_generation.ipynb\" target=\"_parent\"><img src=\"https://colab.research.google.com/assets/colab-badge.svg\" alt=\"Open In Colab\"/></a>"
      ]
    },
    {
      "cell_type": "code",
      "execution_count": 1,
      "metadata": {
        "id": "aDyWfKJXmsmi"
      },
      "outputs": [],
      "source": [
        "import numpy as np\n",
        "import tensorflow as tf\n",
        "from tensorflow.keras.layers import LSTM, Dense, TimeDistributed\n",
        "from tensorflow.keras.models import Sequential\n",
        "import string\n",
        "import random\n",
        "import os"
      ]
    },
    {
      "cell_type": "code",
      "source": [
        "def preprocess_text(text):\n",
        "    \"\"\"Preprocesses the text by converting to lowercase and removing unwanted characters.\"\"\"\n",
        "    text = text.lower()\n",
        "    allowed_chars = string.ascii_lowercase + string.digits + \" .,!?\\n\"\n",
        "    text = ''.join(c for c in text if c in allowed_chars)\n",
        "    return text"
      ],
      "metadata": {
        "id": "fVsdLHEmm9O7"
      },
      "execution_count": 2,
      "outputs": []
    },
    {
      "cell_type": "code",
      "source": [
        "def create_char_mappings(text):\n",
        "    \"\"\"Creates character-to-index and index-to-character mappings.\"\"\"\n",
        "    chars = sorted(list(set(text)))\n",
        "    char_to_index = {c: i for i, c in enumerate(chars)}\n",
        "    index_to_char = {i: c for i, c in enumerate(chars)}\n",
        "    return chars, char_to_index, index_to_char"
      ],
      "metadata": {
        "id": "ym349AJ2nCVm"
      },
      "execution_count": 3,
      "outputs": []
    },
    {
      "cell_type": "code",
      "source": [
        "def create_sequences(text, seq_length, char_to_index):\n",
        "    \"\"\"Creates input-output sequences for training.\"\"\"\n",
        "    input_chars = []\n",
        "    output_chars = []\n",
        "    for i in range(0, len(text) - seq_length):\n",
        "        input_seq = text[i:i + seq_length]\n",
        "        output_seq = text[i + seq_length]\n",
        "        input_chars.append([char_to_index[char] for char in input_seq])\n",
        "        output_chars.append(char_to_index[output_seq])\n",
        "    return np.array(input_chars), np.array(output_chars)"
      ],
      "metadata": {
        "id": "1SApo0J7nGyv"
      },
      "execution_count": 4,
      "outputs": []
    },
    {
      "cell_type": "code",
      "source": [
        "def create_model(vocab_size, seq_length):\n",
        "    \"\"\"Creates the RNN model.\"\"\"\n",
        "    model = Sequential([\n",
        "        LSTM(256, input_shape=(seq_length, 1), return_sequences=True),\n",
        "        LSTM(256),\n",
        "        Dense(vocab_size, activation='softmax')\n",
        "    ])\n",
        "    model.compile(loss='sparse_categorical_crossentropy', optimizer='adam')\n",
        "    return model"
      ],
      "metadata": {
        "id": "sGTpmRSWnWDR"
      },
      "execution_count": 5,
      "outputs": []
    },
    {
      "cell_type": "code",
      "source": [
        "def generate_text(model, seed_text, seq_length, num_chars_to_generate, char_to_index, index_to_char):\n",
        "    \"\"\"Generates text from the trained model.\"\"\"\n",
        "    generated_text = seed_text\n",
        "    for _ in range(num_chars_to_generate):\n",
        "        input_eval = [char_to_index[char] for char in seed_text]\n",
        "        input_eval = np.expand_dims(input_eval, axis=0)\n",
        "        input_eval = np.expand_dims(input_eval, axis=-1) # add dimension for LSTM input\n",
        "\n",
        "        predictions = model.predict(input_eval, verbose=0)\n",
        "        predicted_id = np.random.choice(len(predictions[0]), p=predictions[0]) #Sample from the distribution.\n",
        "        predicted_char = index_to_char[predicted_id]\n",
        "\n",
        "        generated_text += predicted_char\n",
        "        seed_text = seed_text[1:] + predicted_char\n",
        "\n",
        "    return generated_text"
      ],
      "metadata": {
        "id": "DvYtKhX9naCJ"
      },
      "execution_count": 6,
      "outputs": []
    },
    {
      "cell_type": "code",
      "source": [
        "def train_and_generate(file_path, seq_length=100, epochs=20, generate_length=500):\n",
        "    \"\"\"Trains the model and generates text.\"\"\"\n",
        "    try:\n",
        "        with open(file_path, 'r', encoding='utf-8') as file:\n",
        "            text = file.read()\n",
        "    except FileNotFoundError:\n",
        "        print(f\"Error: File '{file_path}' not found.\")\n",
        "        return\n",
        "\n",
        "    text = preprocess_text(text)\n",
        "    chars, char_to_index, index_to_char = create_char_mappings(text)\n",
        "    vocab_size = len(chars)\n",
        "    input_chars, output_chars = create_sequences(text, seq_length, char_to_index)\n",
        "\n",
        "    input_chars = np.expand_dims(input_chars, axis=-1) # add dimension for LSTM input\n",
        "\n",
        "    model = create_model(vocab_size, seq_length)\n",
        "    model.fit(input_chars, output_chars, epochs=epochs, batch_size=128)\n",
        "\n",
        "    start_index = random.randint(0, len(text) - seq_length - 1)\n",
        "    seed_text = text[start_index:start_index + seq_length]\n",
        "    generated_text = generate_text(model, seed_text, seq_length, generate_length, char_to_index, index_to_char)\n",
        "\n",
        "    print(\"\\nGenerated Text:\\n\", generated_text)"
      ],
      "metadata": {
        "id": "1XrVDYqonfGm"
      },
      "execution_count": 7,
      "outputs": []
    },
    {
      "cell_type": "code",
      "source": [
        "if __name__ == \"__main__\":\n",
        "    # Create a dummy text file if one does not exist.\n",
        "    if not os.path.exists(\"handwriting.txt\"):\n",
        "      with open(\"handwriting.txt\", \"w\") as f:\n",
        "        f.write(\"The quick brown fox jumps over the lazy dog. This is a sample text for handwriting generation. Hello world.\")\n",
        "\n",
        "    train_and_generate(\"handwriting.txt\")"
      ],
      "metadata": {
        "colab": {
          "base_uri": "https://localhost:8080/"
        },
        "id": "fIInZ_ZgnlQj",
        "outputId": "1fa544e8-d1b5-41dc-fda4-87dfb35829a9"
      },
      "execution_count": 8,
      "outputs": [
        {
          "output_type": "stream",
          "name": "stderr",
          "text": [
            "/usr/local/lib/python3.11/dist-packages/keras/src/layers/rnn/rnn.py:200: UserWarning: Do not pass an `input_shape`/`input_dim` argument to a layer. When using Sequential models, prefer using an `Input(shape)` object as the first layer in the model instead.\n",
            "  super().__init__(**kwargs)\n"
          ]
        },
        {
          "output_type": "stream",
          "name": "stdout",
          "text": [
            "Epoch 1/20\n",
            "\u001b[1m1/1\u001b[0m \u001b[32m━━━━━━━━━━━━━━━━━━━━\u001b[0m\u001b[37m\u001b[0m \u001b[1m4s\u001b[0m 4s/step - loss: 3.3316\n",
            "Epoch 2/20\n",
            "\u001b[1m1/1\u001b[0m \u001b[32m━━━━━━━━━━━━━━━━━━━━\u001b[0m\u001b[37m\u001b[0m \u001b[1m1s\u001b[0m 544ms/step - loss: 2.6594\n",
            "Epoch 3/20\n",
            "\u001b[1m1/1\u001b[0m \u001b[32m━━━━━━━━━━━━━━━━━━━━\u001b[0m\u001b[37m\u001b[0m \u001b[1m0s\u001b[0m 439ms/step - loss: 2.3089\n",
            "Epoch 4/20\n",
            "\u001b[1m1/1\u001b[0m \u001b[32m━━━━━━━━━━━━━━━━━━━━\u001b[0m\u001b[37m\u001b[0m \u001b[1m1s\u001b[0m 508ms/step - loss: 2.1156\n",
            "Epoch 5/20\n",
            "\u001b[1m1/1\u001b[0m \u001b[32m━━━━━━━━━━━━━━━━━━━━\u001b[0m\u001b[37m\u001b[0m \u001b[1m1s\u001b[0m 883ms/step - loss: 2.0137\n",
            "Epoch 6/20\n",
            "\u001b[1m1/1\u001b[0m \u001b[32m━━━━━━━━━━━━━━━━━━━━\u001b[0m\u001b[37m\u001b[0m \u001b[1m1s\u001b[0m 715ms/step - loss: 1.9536\n",
            "Epoch 7/20\n",
            "\u001b[1m1/1\u001b[0m \u001b[32m━━━━━━━━━━━━━━━━━━━━\u001b[0m\u001b[37m\u001b[0m \u001b[1m1s\u001b[0m 1s/step - loss: 1.9071\n",
            "Epoch 8/20\n",
            "\u001b[1m1/1\u001b[0m \u001b[32m━━━━━━━━━━━━━━━━━━━━\u001b[0m\u001b[37m\u001b[0m \u001b[1m0s\u001b[0m 457ms/step - loss: 1.8700\n",
            "Epoch 9/20\n",
            "\u001b[1m1/1\u001b[0m \u001b[32m━━━━━━━━━━━━━━━━━━━━\u001b[0m\u001b[37m\u001b[0m \u001b[1m0s\u001b[0m 423ms/step - loss: 1.8341\n",
            "Epoch 10/20\n",
            "\u001b[1m1/1\u001b[0m \u001b[32m━━━━━━━━━━━━━━━━━━━━\u001b[0m\u001b[37m\u001b[0m \u001b[1m1s\u001b[0m 634ms/step - loss: 1.7929\n",
            "Epoch 11/20\n",
            "\u001b[1m1/1\u001b[0m \u001b[32m━━━━━━━━━━━━━━━━━━━━\u001b[0m\u001b[37m\u001b[0m \u001b[1m0s\u001b[0m 418ms/step - loss: 1.7431\n",
            "Epoch 12/20\n",
            "\u001b[1m1/1\u001b[0m \u001b[32m━━━━━━━━━━━━━━━━━━━━\u001b[0m\u001b[37m\u001b[0m \u001b[1m0s\u001b[0m 429ms/step - loss: 1.6941\n",
            "Epoch 13/20\n",
            "\u001b[1m1/1\u001b[0m \u001b[32m━━━━━━━━━━━━━━━━━━━━\u001b[0m\u001b[37m\u001b[0m \u001b[1m1s\u001b[0m 626ms/step - loss: 1.6304\n",
            "Epoch 14/20\n",
            "\u001b[1m1/1\u001b[0m \u001b[32m━━━━━━━━━━━━━━━━━━━━\u001b[0m\u001b[37m\u001b[0m \u001b[1m0s\u001b[0m 439ms/step - loss: 1.5740\n",
            "Epoch 15/20\n",
            "\u001b[1m1/1\u001b[0m \u001b[32m━━━━━━━━━━━━━━━━━━━━\u001b[0m\u001b[37m\u001b[0m \u001b[1m0s\u001b[0m 445ms/step - loss: 1.6226\n",
            "Epoch 16/20\n",
            "\u001b[1m1/1\u001b[0m \u001b[32m━━━━━━━━━━━━━━━━━━━━\u001b[0m\u001b[37m\u001b[0m \u001b[1m1s\u001b[0m 649ms/step - loss: 1.4583\n",
            "Epoch 17/20\n",
            "\u001b[1m1/1\u001b[0m \u001b[32m━━━━━━━━━━━━━━━━━━━━\u001b[0m\u001b[37m\u001b[0m \u001b[1m1s\u001b[0m 567ms/step - loss: 1.4050\n",
            "Epoch 18/20\n",
            "\u001b[1m1/1\u001b[0m \u001b[32m━━━━━━━━━━━━━━━━━━━━\u001b[0m\u001b[37m\u001b[0m \u001b[1m1s\u001b[0m 627ms/step - loss: 1.3335\n",
            "Epoch 19/20\n",
            "\u001b[1m1/1\u001b[0m \u001b[32m━━━━━━━━━━━━━━━━━━━━\u001b[0m\u001b[37m\u001b[0m \u001b[1m0s\u001b[0m 439ms/step - loss: 1.2560\n",
            "Epoch 20/20\n",
            "\u001b[1m1/1\u001b[0m \u001b[32m━━━━━━━━━━━━━━━━━━━━\u001b[0m\u001b[37m\u001b[0m \u001b[1m1s\u001b[0m 630ms/step - loss: 1.1804\n",
            "\n",
            "Generated Text:\n",
            " e quick brown fox jumps over the lazy dog. this is a sample text for handwriting generation. hello w wwrodr...w wldooro..dwd w  ww wwlr.....worlodd oo w o oodwrld.   wwooddrool..wor..woll . wll or  ro w wrll. wl w wr wrd..wd w w.woo .w..wllr.w wodd w wolorlrdld..wwrodwddrowdd. ww  .w w.wo.l o wowo.dlrrl. wrrro.d..r.w wo wl ..wood.r wwrlddwwddwd.wolrld. wwrl dwodwolld..woo odwollrdd.o. wdwowro..wd..wwrr lrd. worl ww ..wldowr.wlowl..w. .wwwd.ddw r  wlo wwlddwo.wod...w.o  wdr wo dwor wld..woolw.d. wo wo.l wl.w  w w wo.roll..dl .w  ww wool..wolld.ddwowdl.l rw w  w w .wol.o wowr..wl.d wwwdllwlld.. \n"
          ]
        }
      ]
    }
  ]
}